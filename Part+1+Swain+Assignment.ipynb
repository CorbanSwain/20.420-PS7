{
 "cells": [
  {
   "cell_type": "markdown",
   "metadata": {},
   "source": [
    "### Import required packages and load model"
   ]
  },
  {
   "cell_type": "code",
   "execution_count": 1,
   "metadata": {},
   "outputs": [],
   "source": [
    "import cobra\n",
    "import os\n",
    "from os.path import join\n",
    "import numpy as np\n",
    "import matplotlib.pyplot as plt\n",
    "\n",
    "from cobra import Reaction, Metabolite\n",
    "\n",
    "model = cobra.io.read_sbml_model(\"420_model.xml\")"
   ]
  },
  {
   "cell_type": "markdown",
   "metadata": {},
   "source": [
    "#### Optimize the model. What is the biomass accumulation rate?"
   ]
  },
  {
   "cell_type": "code",
   "execution_count": 2,
   "metadata": {},
   "outputs": [
    {
     "name": "stdout",
     "output_type": "stream",
     "text": [
      "Biomass Accumulation Rate 0.917\n",
      "\n",
      "IN FLUXES        OUT FLUXES    OBJECTIVES\n",
      "---------------  ------------  ----------------------\n",
      "o2_e      19.9   h2o_e  27.7   BIOMASS_Ecol...  0.917\n",
      "glc__D_e  10     co2_e  21\n",
      "nh4_e      5     h_e    18.4\n",
      "pi_e       3.37\n"
     ]
    }
   ],
   "source": [
    "solution = model.optimize()\n",
    "print(\"Biomass Accumulation Rate {:.3f}\\n\".format(solution.objective_value))\n",
    "model.summary()"
   ]
  },
  {
   "cell_type": "markdown",
   "metadata": {},
   "source": [
    "#### Change the lower bound of the glucose exchange rate to -20.0. What is the biomass accumulation rate now?"
   ]
  },
  {
   "cell_type": "code",
   "execution_count": 3,
   "metadata": {},
   "outputs": [
    {
     "name": "stdout",
     "output_type": "stream",
     "text": [
      "Reaction: ID - 'EX_glc__D_e',  NAME - 'D-Glucose exchange', REACTION - glc__D_e <=> \n",
      "Current Lower Bound: -10.000\n",
      "New Lower Bound: -20.000\n",
      "\n",
      "Biomass Accumulation Rate 1.833\n",
      "\n",
      "IN FLUXES        OUT FLUXES    OBJECTIVES\n",
      "---------------  ------------  ---------------------\n",
      "o2_e      39.9   h2o_e  55.3   BIOMASS_Ecol...  1.83\n",
      "glc__D_e  20     co2_e  42\n",
      "nh4_e     10     h_e    36.8\n",
      "pi_e       6.74\n"
     ]
    }
   ],
   "source": [
    "for r in model.reactions:\n",
    "    name = r.name\n",
    "    if \"ex\" in name.lower() and \"glucose\" in name.lower():\n",
    "        print(\"Reaction: ID - \\'{}\\',  NAME - \\'{}\\', REACTION - {}\".format(r.id,\n",
    "                                                                            name,\n",
    "                                                                            r.reaction))\n",
    "        print(\"Current Lower Bound: {:.3f}\".format(r.lower_bound))\n",
    "        r.lower_bound = -20\n",
    "        glu_ex_id = r.id\n",
    "        print(\"New Lower Bound: {:.3f}\\n\".format(r.lower_bound))\n",
    "        \n",
    "solution = model.optimize()\n",
    "print(\"Biomass Accumulation Rate {:.3f}\\n\".format(solution.objective_value))\n",
    "model.summary()"
   ]
  },
  {
   "cell_type": "markdown",
   "metadata": {},
   "source": [
    "#### Now change the lower bound of the glucose exchange reaction to 0.0. What is the biomass accumulation rate now? Why?"
   ]
  },
  {
   "cell_type": "markdown",
   "metadata": {},
   "source": [
    "Setting the lower bound of glucose exchange to 0 effectively turns off glucose import into the system. This is becaus negative flux through the exchange reaction is eqivalent to influx of gluclose into the cell."
   ]
  },
  {
   "cell_type": "code",
   "execution_count": 5,
   "metadata": {},
   "outputs": [
    {
     "name": "stdout",
     "output_type": "stream",
     "text": [
      "Biomass Accumulation Rate 0.000\n",
      "\n",
      "IN FLUXES    OUT FLUXES    OBJECTIVES\n",
      "-----------  ------------  ------------------\n",
      "                           BIOMASS_Ecol...  0\n"
     ]
    }
   ],
   "source": [
    "r = model.reactions.get_by_id(glu_ex_id)\n",
    "r.lower_bound = 0\n",
    "solution = model.optimize()\n",
    "print(\"Biomass Accumulation Rate {:.3f}\\n\".format(solution.objective_value))\n",
    "model.summary()"
   ]
  },
  {
   "cell_type": "markdown",
   "metadata": {},
   "source": [
    "#### What do exchange reactions represent? What do the upper and lower bounds of exchange reactions represent?"
   ]
  },
  {
   "cell_type": "markdown",
   "metadata": {},
   "source": [
    "Exchange reactions represent the introduction or uptake of a metabolite into the system. The exchange reactions are formulated here as:\n",
    "A <=>\n",
    "Such that forward flux through the reaction leads to clearance of the metabolite, and negative flux through the reaction represents uptake of that metabolite."
   ]
  },
  {
   "cell_type": "markdown",
   "metadata": {},
   "source": [
    "#### Knockout the reaction GLCpts. What is the biomass accumulation rate now? Why?"
   ]
  },
  {
   "cell_type": "code",
   "execution_count": 7,
   "metadata": {},
   "outputs": [
    {
     "name": "stdout",
     "output_type": "stream",
     "text": [
      "Reaction:\n",
      "\tID - 'GLCpts',\n",
      "\tNAME - 'D-glucose transport via PEP:Pyr PTS',\n",
      "\tREACTION - glc__D_e + pep_c --> g6p_c + pyr_c\n",
      "\n",
      "Biomass Accumulation Rate 0.000\n"
     ]
    }
   ],
   "source": [
    "# Your code goes here\n",
    "model = cobra.io.read_sbml_model(\"420_model.xml\")\n",
    "r = model.reactions.get_by_id(\"GLCpts\")\n",
    "r.knock_out()\n",
    "print(\"Reaction:\\n\\tID - \\'{}\\',\\n\\tNAME - \\'{}\\',\\n\\tREACTION - {}\\n\".format(r.id, \n",
    "                                                                              r.name,\n",
    "                                                                              r.reaction))\n",
    "solution = model.optimize()\n",
    "print(\"Biomass Accumulation Rate {:.3f}\".format(solution.objective_value))"
   ]
  },
  {
   "cell_type": "code",
   "execution_count": 8,
   "metadata": {},
   "outputs": [
    {
     "name": "stdout",
     "output_type": "stream",
     "text": [
      "D-Glucose exchange : glc__D_e <=> \n",
      "D-glucose transport via PEP:Pyr PTS : glc__D_e + pep_c --> g6p_c + pyr_c\n"
     ]
    }
   ],
   "source": [
    "model = cobra.io.read_sbml_model(\"420_model.xml\")\n",
    "for r in model.reactions:\n",
    "    rxn_str = r.reaction\n",
    "    if \"glc__D_e\" in rxn_str:\n",
    "        print(\"{} : {}\".format(r.name, rxn_str))"
   ]
  },
  {
   "cell_type": "markdown",
   "metadata": {},
   "source": [
    "Similar to removing glucose import, knocking out this reaction takes out the first step in glucose metabolism, effectively shutting down metabolism."
   ]
  }
 ],
 "metadata": {
  "kernelspec": {
   "display_name": "Python 3",
   "language": "python",
   "name": "python3"
  },
  "language_info": {
   "codemirror_mode": {
    "name": "ipython",
    "version": 3
   },
   "file_extension": ".py",
   "mimetype": "text/x-python",
   "name": "python",
   "nbconvert_exporter": "python",
   "pygments_lexer": "ipython3",
   "version": "3.6.1"
  }
 },
 "nbformat": 4,
 "nbformat_minor": 2
}
