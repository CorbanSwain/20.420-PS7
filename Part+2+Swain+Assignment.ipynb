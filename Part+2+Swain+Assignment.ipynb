{
 "cells": [
  {
   "cell_type": "markdown",
   "metadata": {},
   "source": [
    "Load model from provided .xml file. Import required packages"
   ]
  },
  {
   "cell_type": "code",
   "execution_count": 3,
   "metadata": {},
   "outputs": [],
   "source": [
    "import cobra.test\n",
    "import os\n",
    "from os.path import join\n",
    "import numpy as np\n",
    "import matplotlib.pyplot as plt\n",
    "\n",
    "from S3A_test import test_results\n",
    "\n",
    "model=cobra.io.read_sbml_model(\"420_model.xml\")\n",
    "\n",
    "from cobra import Reaction, Metabolite"
   ]
  },
  {
   "cell_type": "markdown",
   "metadata": {},
   "source": [
    "## Figure S3A"
   ]
  },
  {
   "cell_type": "markdown",
   "metadata": {},
   "source": [
    "Classify each double mutant and carbon source as 0 (no growth), 1 (growth only with RuBISCO flux), and 2 (growth with or without RuBISCO flux). These values should be entered in a list (example below) in the order shown in the Excel document (you should have 3 nested loops: KO, KO, carbon source)."
   ]
  },
  {
   "cell_type": "markdown",
   "metadata": {},
   "source": [
    "### Dictonaries for going between paper and model"
   ]
  },
  {
   "cell_type": "code",
   "execution_count": 4,
   "metadata": {},
   "outputs": [],
   "source": [
    "# Carbon sources\n",
    "source_rename_map = {\n",
    "    \"glu\": \"g6p\",\n",
    "    \"fru\": \"f6p\",\n",
    "    \"gnt\": \"6pgc\",\n",
    "    \"rib\": \"r5p\",\n",
    "    \"pyr\": \"pyr\",\n",
    "    \"xyl\": \"xu5p__D\",\n",
    "    \"2pg\": \"2pg\",\n",
    "    \"ace\": \"ac\",\n",
    "    \"gly\": \"dhap\"\n",
    "}\n",
    "source_metabolite_rename_map, source_rxn_rename_map = ({}, {})\n",
    "for (key, value) in source_rename_map.items():\n",
    "    source_metabolite_rename_map[key] = value + \"_c\"\n",
    "    source_rxn_rename_map[key] = \"EX_\" + value + \"_c\"\n",
    "sources = list(source_rename_map.keys())\n",
    "\n",
    "# Reactions\n",
    "reaction_rename_map = {    \n",
    "    \"PTS\": [\"FRUpts2\", \"GLCpts\"],\n",
    "    \"PGI\": [\"PGI\"],\n",
    "    \"PFK\": [\"PFK\"],\n",
    "    \"FBP\": [\"FBP\"],\n",
    "    \"FBA\": [\"FBA\"],\n",
    "    \"TPI\": [\"TPI\"],\n",
    "    \"GAPD\": [\"GAPD\"],\n",
    "    \"GPM\": [\"PGM\"],\n",
    "    \"ENO\": [\"ENO\"],\n",
    "    \"PYK\": [\"PYK\"],\n",
    "    \"PPS\": [\"PPS\"],\n",
    "    \"PDH\": [\"PDH\"],\n",
    "    \"PFL\": [\"PFL\"],\n",
    "    \"ZWF\": [\"G6PDH2r\"],\n",
    "    \"GND\": [\"GND\"],\n",
    "    \"EDA\": [\"EDA\"],\n",
    "    \"RPE\": [\"RPE\"],\n",
    "    \"RPI\": [\"RPI\"],\n",
    "    \"TKT\": [\"TKT1\", \"TKT2\"],\n",
    "    \"TAL\": [\"TALA\"],\n",
    "    \"PPC\": [\"PPC\"],\n",
    "    \"PPCK\": [\"PPCK\"],\n",
    "    \"CS\": [\"CS\"],\n",
    "    \"ACONT\": [\"ACONTa\", \"ACONTb\"],\n",
    "    \"ALCD2x\": [\"ALCD2x\"],\n",
    "    \"ACALD\": [\"ACALD\"],\n",
    "}\n",
    "\n",
    "rxns = list(reaction_rename_map.keys())"
   ]
  },
  {
   "cell_type": "markdown",
   "metadata": {},
   "source": [
    "### Model search script"
   ]
  },
  {
   "cell_type": "code",
   "execution_count": 16,
   "metadata": {},
   "outputs": [
    {
     "name": "stdout",
     "output_type": "stream",
     "text": [
      "glu__L_c   : L-Glutamate\n",
      "glu__L_e   : L-Glutamate\n",
      "\n",
      "BIOMASS_Ecoli_core_w_GAM :\n",
      "\t1.496 3pg_c + 3.7478 accoa_c + 59.81 atp_c + 0.361 e4p_c + 0.0709 f6p_c + 0.129 g3p_c + 0.205 g6p_c + 0.2557 gln__L_c + 4.9414 glu__L_c + 59.81 h2o_c + 3.547 nad_c + 13.0279 nadph_c + 1.7867 oaa_c + 0.5191 pep_c + 2.8328 pyr_c + 0.8977 r5p_c --> 59.81 adp_c + 4.1182 akg_c + 3.7478 coa_c + 59.81 h_c + 3.547 nadh_c + 13.0279 nadp_c + 59.81 pi_c\n",
      "EX_glu__L_e :\n",
      "\tglu__L_e --> \n",
      "GLNS :\n",
      "\tatp_c + glu__L_c + nh4_c --> adp_c + gln__L_c + h_c + pi_c\n",
      "GLUDy :\n",
      "\tglu__L_c + h2o_c + nadp_c <=> akg_c + h_c + nadph_c + nh4_c\n",
      "GLUN :\n",
      "\tgln__L_c + h2o_c --> glu__L_c + nh4_c\n",
      "GLUSy :\n",
      "\takg_c + gln__L_c + h_c + nadph_c --> 2.0 glu__L_c + nadp_c\n",
      "GLUt2r :\n",
      "\tglu__L_e + h_e <=> glu__L_c + h_c\n"
     ]
    }
   ],
   "source": [
    "search = \"glu\"\n",
    "for m in model.metabolites:\n",
    "    if search.lower() in m.id.lower():\n",
    "        print(\"{:<10} : {}\".format(m.id, m.name))\n",
    "        \n",
    "print()\n",
    "for r in model.reactions:\n",
    "    if search.lower() in r.reaction.lower():\n",
    "        print(\"{:} :\\n\\t{}\".format(r.id, r.reaction))\n"
   ]
  },
  {
   "cell_type": "markdown",
   "metadata": {},
   "source": [
    "### Validating that all dictionary values line up with model objects"
   ]
  },
  {
   "cell_type": "code",
   "execution_count": 6,
   "metadata": {},
   "outputs": [
    {
     "name": "stdout",
     "output_type": "stream",
     "text": [
      "All diffs should be zero.\n",
      "Diff: 0\n",
      "\n",
      "Diff: 0\n",
      "\n",
      "Diff: 0\n"
     ]
    }
   ],
   "source": [
    "# Checking\n",
    "print(\"All diffs should be zero.\")\n",
    "count = 0\n",
    "for m in model.metabolites:\n",
    "    if m.id in source_metabolite_rename_map.values():\n",
    "        count += 1\n",
    "        # print(\"{:<10} : {}\".format(m.id, m.name));\n",
    "        \n",
    "print(\"Diff: {:d}\\n\".format(len(source_metabolite_rename_map) - count))\n",
    "\n",
    "count = 0\n",
    "for r in model.reactions:\n",
    "    if r.id in source_rxn_rename_map.values():\n",
    "        count += 1\n",
    "        # print(\"{:<10} : {}\".format(r.id, r.name));\n",
    "        \n",
    "print(\"Diff: {:d}\\n\".format(len(source_rxn_rename_map) - count))\n",
    "\n",
    "count = 0\n",
    "vals = sum(list(reaction_rename_map.values()), [])\n",
    "length = len(vals)\n",
    "for r in model.reactions:\n",
    "    if r.id in vals:\n",
    "        count += 1\n",
    "        del vals[vals.index(r.id)]\n",
    "        # print(\"{:<10} : {}\".format(r.id, r.name))\n",
    "        \n",
    "print(\"Diff: {:d}\".format(length - count))"
   ]
  },
  {
   "cell_type": "markdown",
   "metadata": {},
   "source": [
    "### Adding PRK and RuBisCO catalyzed reactions"
   ]
  },
  {
   "cell_type": "code",
   "execution_count": 7,
   "metadata": {},
   "outputs": [],
   "source": [
    "# Creating reactions\n",
    "prk_rxn = Reaction(\"PRK\")\n",
    "rubisco_rxn = Reaction(\"RUBISCO\")\n",
    "\n",
    "# creating new metabolite ribulose-1,5-bisphosphate\n",
    "rdp_c = Metabolite(\n",
    "    \"rdp_c\",\n",
    "    formula=\"C5H12O11P2\",\n",
    "    name=\"ribulose 1,5-bisphosphate\",\n",
    "    compartment=\"c\")\n",
    "\n",
    "# putting reactions and metabolites into model\n",
    "model.add_metabolites(rdp_c)\n",
    "model.add_reactions([prk_rxn, rubisco_rxn])\n",
    "\n",
    "# setting up reactions\n",
    "# PRK: Ribulose 5-phosphate + ATP -> Ribulose 1,5-bisphosphate + ADP\n",
    "prk_rxn.name = \"phosphoribulose phosphorylation\"\n",
    "prk_rxn.add_metabolites({\n",
    "    \"ru5p__D_c\": -1.0,\n",
    "    \"atp_c\": -1.0,\n",
    "    \"rdp_c\": +1.0,\n",
    "    \"adp_c\": +1.0\n",
    "})\n",
    "\n",
    "# RuBISCO: Ribulose 1,5-bisphosphate + H2O + CO2 -> 2 (glycerate 3-phosphate) + 3H\n",
    "rubisco_rxn.name = \"bisphosphoribulose cleavage to phosphoglycerate\"\n",
    "rubisco_rxn.add_metabolites({\n",
    "    \"rdp_c\": -1.0,\n",
    "    \"h2o_c\": -1.0,\n",
    "    \"co2_c\": -1.0,\n",
    "    \"h_c\": +3.0,\n",
    "    \"3pg_c\": +2.0\n",
    "})"
   ]
  },
  {
   "cell_type": "markdown",
   "metadata": {},
   "source": [
    "### Modifying model for no carbon source uptake"
   ]
  },
  {
   "cell_type": "code",
   "execution_count": 8,
   "metadata": {},
   "outputs": [],
   "source": [
    "r = model.reactions.get_by_id(\"EX_glc__D_e\")\n",
    "r.knock_out()\n",
    "\n",
    "lower_bound_cache = {}\n",
    "\n",
    "for key in sources:\n",
    "    s_id = source_rxn_rename_map[key]\n",
    "    r = model.reactions.get_by_id(s_id)\n",
    "    r.lower_bound = 0\n",
    "    \n",
    "    m_id = source_metabolite_rename_map[key]\n",
    "    met = model.metabolites.get_by_id(m_id)\n",
    "    nC = met.elements['C']\n",
    "    lower_bound_cache[key] = -50.0 / float(nC)"
   ]
  },
  {
   "cell_type": "markdown",
   "metadata": {},
   "source": [
    "### Deletion and optimization loop for heat map figure"
   ]
  },
  {
   "cell_type": "code",
   "execution_count": 9,
   "metadata": {},
   "outputs": [
    {
     "name": "stdout",
     "output_type": "stream",
     "text": [
      "Beginning Optimizations...\n",
      "# 1000 - BMACCUM:    0.000\n",
      "# 2000 - BMACCUM:    0.723\n",
      "# 3000 - BMACCUM:    0.764\n",
      "# 4000 - BMACCUM:    0.691\n",
      "# 5000 - BMACCUM:    0.571\n",
      "# 6000 - BMACCUM:    0.827\n",
      "Done!\n"
     ]
    }
   ],
   "source": [
    "print(\"Beginning Optimizations...\")\n",
    "\n",
    "counter = 0\n",
    "plotting_cache = []\n",
    "tol = 0.0000001\n",
    "\n",
    "for rxn1 in rxns:\n",
    "    for rxn2 in rxns:\n",
    "        for s_key in sources:\n",
    "            with model as m:                 \n",
    "                s_id = source_rxn_rename_map[s_key]\n",
    "                r = m.reactions.get_by_id(s_id)\n",
    "                r.lower_bound = lower_bound_cache[s_key]\n",
    "                \n",
    "                rxn_list = reaction_rename_map[rxn1] + reaction_rename_map[rxn2]\n",
    "                for r_name in rxn_list:\n",
    "                    r = m.reactions.get_by_id(r_name)\n",
    "                    r.knock_out()\n",
    "                    \n",
    "                soln = m.optimize()\n",
    "                obj_val = soln.objective_value\n",
    "                \n",
    "                if obj_val < tol:\n",
    "                    plotting_cache.append(0)\n",
    "                else:\n",
    "                    r = m.reactions.get_by_id(\"RUBISCO\")\n",
    "                    r.knock_out()\n",
    "                    r = m.reactions.get_by_id(\"PRK\")\n",
    "                    r.knock_out()\n",
    "                    soln = m.optimize()\n",
    "                    obj_val = soln.objective_value\n",
    "                    if obj_val < tol:\n",
    "                        plotting_cache.append(1)\n",
    "                    else:\n",
    "                        plotting_cache.append(2)\n",
    "                        \n",
    "                counter += 1\n",
    "                if True and (counter % 1000) == 0:\n",
    "                    print(\"#{:5d} - BMACCUM: {:8.3f}\".format(counter, obj_val))\n",
    "                    \n",
    "print(\"Done!\")"
   ]
  },
  {
   "cell_type": "markdown",
   "metadata": {},
   "source": [
    "### Testing Results and Plotting Figure "
   ]
  },
  {
   "cell_type": "code",
   "execution_count": 10,
   "metadata": {},
   "outputs": [
    {
     "name": "stdout",
     "output_type": "stream",
     "text": [
      "All entries are correct\n"
     ]
    },
    {
     "data": {
      "image/png": "[encoded data removed]",
      "text/plain": [
       "<matplotlib.figure.Figure at 0x11298ebe0>"
      ]
     },
     "metadata": {},
     "output_type": "display_data"
    }
   ],
   "source": [
    "test_results(plotting_cache)"
   ]
  },
  {
   "cell_type": "markdown",
   "metadata": {},
   "source": [
    "## Figure S3B"
   ]
  },
  {
   "cell_type": "markdown",
   "metadata": {},
   "source": [
    "simulate 50 values of the biomass accumulation rate"
   ]
  },
  {
   "cell_type": "code",
   "execution_count": 11,
   "metadata": {},
   "outputs": [
    {
     "name": "stdout",
     "output_type": "stream",
     "text": [
      "Beginning Optimizations for Figure S3B\n",
      "Done!\n"
     ]
    }
   ],
   "source": [
    "print(\"Beginning Optimizations for Figure S3B\")\n",
    "\n",
    "bm_id = \"BIOMASS_Ecoli_core_w_GAM\"\n",
    "\n",
    "# (Biomass Vector, Min Vector, Max Vector)\n",
    "rbsc_flux_cache = np.zeros([4, 3, 50])\n",
    "\n",
    "conditions = (([\"PFK\", \"ZWF\"], \"pyr\"),\n",
    "              ([\"PFK\", \"ZWF\"], \"xyl\"),\n",
    "              ([\"GPM\", \"ZWF\"], \"pyr\"),\n",
    "              ([\"GPM\", \"ZWF\"], \"xyl\"))\n",
    "\n",
    "for i_cond, (rxn_keys, source_key) in enumerate(conditions):\n",
    "    rxns = [reaction_rename_map[k] for k in rxn_keys]\n",
    "    rxns = sum(rxns, [])\n",
    "    \n",
    "    s_id = source_rxn_rename_map[source_key]\n",
    "    \n",
    "    with model as m:\n",
    "        r = m.reactions.get_by_id(s_id)\n",
    "        r.lower_bound = lower_bound_cache[source_key]\n",
    "        \n",
    "        for r_id in rxns:\n",
    "            r = m.reactions.get_by_id(r_id)\n",
    "            r.knock_out()\n",
    "            \n",
    "        soln = m.optimize()\n",
    "        max_biomass = soln.objective_value\n",
    "        bm_values = np.linspace(1e-5, max_biomass - 1e-5, 50)\n",
    "        rbsc_flux_cache[i_cond][0] = bm_values\n",
    "        \n",
    "        m.objective = \"RUBISCO\"\n",
    "        if max_biomass > 1e-3:\n",
    "            for i_col, obj_dir in [(1, \"max\"), (2, \"min\")]:\n",
    "                m.objective_direction = obj_dir\n",
    "                for i_row, bm_val in enumerate(bm_values):\n",
    "                    m.reactions.get_by_id(bm_id).lower_bound = bm_val\n",
    "                    soln = m.optimize()\n",
    "                    rbsc_flux_cache[i_cond, i_col, i_row] = soln.objective_value\n",
    "\n",
    "print(\"Done!\")\n"
   ]
  },
  {
   "cell_type": "markdown",
   "metadata": {},
   "source": [
    "### Plotting Figure S3B data"
   ]
  },
  {
   "cell_type": "code",
   "execution_count": 12,
   "metadata": {},
   "outputs": [
    {
     "data": {
      "image/png": "[encoded data removed]",
      "text/plain": [
       "<matplotlib.figure.Figure at 0x112bf10f0>"
      ]
     },
     "metadata": {},
     "output_type": "display_data"
    }
   ],
   "source": [
    "for i_cond, data in enumerate(rbsc_flux_cache):\n",
    "    x = data[0]\n",
    "    y_max = data[1]\n",
    "    y_min = data[2]\n",
    "    plt.subplot(221 + i_cond)\n",
    "    plt.plot(x, y_max)\n",
    "    plt.plot(x, y_min)\n",
    "    plt.xlim([0, 1])\n",
    "    plt.ylim([0, 100])\n",
    "    plt.xlabel(\"Biomass Production (1/hr)\")\n",
    "    plt.ylabel(\"Rubisco Flux (mmol/gCDW/hr)\")\n",
    "\n",
    "plt.show()\n"
   ]
  },
  {
   "cell_type": "markdown",
   "metadata": {},
   "source": [
    "### Figure S5A"
   ]
  },
  {
   "cell_type": "markdown",
   "metadata": {},
   "source": [
    "Important note from figure caption:\n",
    "* 10 mmol gCDW-1 h-1 for xylose, \n",
    "* 16.7 for pyruvate and \n",
    "* 6.2 mmol gCDW-1 h-1 for each of the two carbon sources when combined."
   ]
  },
  {
   "cell_type": "code",
   "execution_count": 22,
   "metadata": {},
   "outputs": [
    {
     "name": "stdout",
     "output_type": "stream",
     "text": [
      "Beginning Optimizations for Figure S5A\n",
      "Done!\n"
     ]
    }
   ],
   "source": [
    "print(\"Beginning Optimizations for Figure S5A\")\n",
    "\n",
    "# along dim 2: (Biomass Vector, Min Vector, Max Vector)\n",
    "rbsc_flux_cache_2 = np.zeros([3, 3, 50])\n",
    "\n",
    "conditions = (([\"PFK\", \"ZWF\", \"GPM\"], [\"xyl\"]),\n",
    "              ([\"PFK\", \"ZWF\", \"GPM\"], [\"xyl\", \"pyr\"]),\n",
    "              ([\"PFK\", \"ZWF\", \"GPM\"], [\"pyr\"]))\n",
    "\n",
    "xyl_pyr_lower_bound = 1.0/(1.0/lower_bound_cache[\"xyl\"] \n",
    "                           + 1.0/lower_bound_cache[\"pyr\"])\n",
    "rates = [\n",
    "    lower_bound_cache[\"xyl\"],\n",
    "    xyl_pyr_lower_bound, \n",
    "    lower_bound_cache[\"pyr\"]\n",
    "];\n",
    "\n",
    "for i_cond, (rxn_keys, source_keys) in enumerate(conditions):\n",
    "    rxns = [reaction_rename_map[k] for k in rxn_keys]\n",
    "    rxns = sum(rxns, [])\n",
    "    \n",
    "    with model as m:\n",
    "        for sk in source_keys:\n",
    "            s_id = source_rxn_rename_map[sk]\n",
    "            r = m.reactions.get_by_id(s_id)\n",
    "            r.lower_bound = rates[i_cond]\n",
    "\n",
    "        \n",
    "        for r_id in rxns:\n",
    "            r = m.reactions.get_by_id(r_id)\n",
    "            r.knock_out()\n",
    "            \n",
    "        soln = m.optimize()\n",
    "        max_biomass = soln.objective_value\n",
    "        bm_values = np.linspace(1e-5, max_biomass - 1e-5, 50)\n",
    "        rbsc_flux_cache_2[i_cond][0] = bm_values\n",
    "        \n",
    "        m.objective = \"RUBISCO\"\n",
    "        if max_biomass > 1e-3:\n",
    "            for i_col, obj_dir in [(1, \"max\"), (2, \"min\")]:\n",
    "                m.objective_direction = obj_dir\n",
    "                for i_row, bm_val in enumerate(bm_values):\n",
    "                    m.reactions.get_by_id(bm_id).lower_bound = bm_val\n",
    "                    soln = m.optimize()\n",
    "                    rbsc_flux_cache_2[i_cond, i_col, i_row] = soln.objective_value\n",
    "\n",
    "print(\"Done!\")"
   ]
  },
  {
   "cell_type": "code",
   "execution_count": 23,
   "metadata": {},
   "outputs": [
    {
     "data": {
      "image/png": "[encoded data removed]",
      "text/plain": [
       "<matplotlib.figure.Figure at 0x1131bebe0>"
      ]
     },
     "metadata": {},
     "output_type": "display_data"
    }
   ],
   "source": [
    "for i_cond, data in enumerate(rbsc_flux_cache_2):\n",
    "    x = data[0]\n",
    "    y_max = data[1]\n",
    "    y_min = data[2]\n",
    "    plt.subplot(131 + i_cond)\n",
    "    plt.plot(x, y_max)\n",
    "    plt.plot(x, y_min)\n",
    "    plt.xlim([0, 1])\n",
    "    plt.ylim([0, 100])\n",
    "    plt.xlabel(\"Biomass Production (1/hr)\")\n",
    "    plt.ylabel(\"Rubisco Flux (mmol/gCDW/hr)\")\n",
    "\n",
    "plt.show()"
   ]
  },
  {
   "cell_type": "code",
   "execution_count": null,
   "metadata": {},
   "outputs": [],
   "source": []
  }
 ],
 "metadata": {
  "kernelspec": {
   "display_name": "Python 3",
   "language": "python",
   "name": "python3"
  },
  "language_info": {
   "codemirror_mode": {
    "name": "ipython",
    "version": 3
   },
   "file_extension": ".py",
   "mimetype": "text/x-python",
   "name": "python",
   "nbconvert_exporter": "python",
   "pygments_lexer": "ipython3",
   "version": "3.6.1"
  }
 },
 "nbformat": 4,
 "nbformat_minor": 2
}
